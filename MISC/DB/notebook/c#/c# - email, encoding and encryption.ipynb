{
 "cells": [
  {
   "cell_type": "code",
   "execution_count": 32,
   "id": "db150c81",
   "metadata": {
    "polyglot_notebook": {
     "kernelName": "csharp"
    }
   },
   "outputs": [],
   "source": [
    "using System.Reflection;\n",
    "using System.Diagnostics;\n",
    "public static class LessenOneService\n",
    "{\n",
    "    public static async void GetLocationList()\n",
    "    {\n",
    "        try\n",
    "        {\n",
    "            var frames = new StackTrace().GetFrames()\n",
    "       .Select(frame => frame.GetMethod()).ToList();\n",
    "       foreach (var x in frames){\n",
    "        Console.WriteLine(x);\n",
    "       }\n",
    "\n",
    "            \n",
    "        }\n",
    "        catch (Exception ex)\n",
    "        {\n",
    "            throw new Exception(ex.Message);\n",
    "        }\n",
    "    }\n",
    "}"
   ]
  },
  {
   "cell_type": "code",
   "execution_count": 33,
   "id": "cbd6b8e0",
   "metadata": {
    "language_info": {
     "name": "polyglot-notebook"
    },
    "polyglot_notebook": {
     "kernelName": "csharp"
    }
   },
   "outputs": [
    {
     "name": "stdout",
     "output_type": "stream",
     "text": [
      "Void MoveNext()\n",
      "Void Start[TStateMachine](TStateMachine ByRef)\n",
      "Void GetLocationList()\n",
      "Void MoveNext()\n",
      "Void Start[TStateMachine](TStateMachine ByRef)\n",
      "System.Threading.Tasks.Task`1[System.Object] <Initialize>()\n",
      "System.Threading.Tasks.Task`1[System.Object] <Factory>(System.Object[])\n",
      "Void MoveNext()\n",
      "Void Start[TStateMachine](TStateMachine ByRef)\n",
      "Void Start[TStateMachine](TStateMachine ByRef)\n",
      "System.Threading.Tasks.Task`1[TResult] RunSubmissionsAsync[TResult](System.Collections.Immutable.ImmutableArray`1[System.Func`2[System.Object[],System.Threading.Tasks.Task]], System.Func`2[System.Object[],System.Threading.Tasks.Task], System.Runtime.CompilerServices.StrongBox`1[System.Exception], System.Func`2[System.Exception,System.Boolean], System.Threading.CancellationToken)\n",
      "Void MoveNext()\n",
      "Void Start[TStateMachine](TStateMachine ByRef)\n",
      "Void Start[TStateMachine](TStateMachine ByRef)\n",
      "System.Threading.Tasks.Task`1[Microsoft.CodeAnalysis.Scripting.ScriptState`1[T]] RunSubmissionsAsync(Microsoft.CodeAnalysis.Scripting.ScriptExecutionState, System.Collections.Immutable.ImmutableArray`1[System.Func`2[System.Object[],System.Threading.Tasks.Task]], System.Func`2[System.Object[],System.Threading.Tasks.Task], System.Func`2[System.Exception,System.Boolean], System.Threading.CancellationToken)\n",
      "System.Threading.Tasks.Task`1[Microsoft.CodeAnalysis.Scripting.ScriptState`1[T]] RunFromAsync(Microsoft.CodeAnalysis.Scripting.ScriptState, System.Func`2[System.Exception,System.Boolean], System.Threading.CancellationToken)\n",
      "System.Threading.Tasks.Task`1[Microsoft.CodeAnalysis.Scripting.ScriptState`1[System.Object]] ContinueWithAsync(System.String, Microsoft.CodeAnalysis.Scripting.ScriptOptions, System.Func`2[System.Exception,System.Boolean], System.Threading.CancellationToken)\n",
      "Void MoveNext()\n",
      "Void Start[TStateMachine](TStateMachine ByRef)\n",
      "Void Start[TStateMachine](TStateMachine ByRef)\n",
      "System.Threading.Tasks.Task RunAsync(System.String, System.Threading.CancellationToken, System.Func`2[System.Exception,System.Boolean])\n",
      "Void MoveNext()\n",
      "Void Start[TStateMachine](TStateMachine ByRef)\n",
      "Void Start[TStateMachine](TStateMachine ByRef)\n",
      "System.Threading.Tasks.Task Microsoft.DotNet.Interactive.IKernelCommandHandler<Microsoft.DotNet.Interactive.Commands.SubmitCode>.HandleAsync(Microsoft.DotNet.Interactive.Commands.SubmitCode, Microsoft.DotNet.Interactive.KernelInvocationContext)\n",
      "System.Threading.Tasks.Task InvokeAsync(Microsoft.DotNet.Interactive.KernelInvocationContext)\n",
      "Void MoveNext()\n",
      "Void Start[TStateMachine](TStateMachine ByRef)\n",
      "System.Threading.Tasks.Task HandleAsync(Microsoft.DotNet.Interactive.Commands.KernelCommand, Microsoft.DotNet.Interactive.KernelInvocationContext)\n",
      "Void MoveNext()\n",
      "Void Start[TStateMachine](TStateMachine ByRef)\n",
      "System.Threading.Tasks.Task <BuildPipeline>b__6_0(Microsoft.DotNet.Interactive.Commands.KernelCommand, Microsoft.DotNet.Interactive.KernelInvocationContext, Microsoft.DotNet.Interactive.KernelPipelineContinuation)\n",
      "Void MoveNext()\n",
      "Void Start[TStateMachine](TStateMachine ByRef)\n",
      "Void MoveNext()\n",
      "Void Start[TStateMachine](TStateMachine ByRef)\n",
      "System.Threading.Tasks.Task HandleAsync(Microsoft.DotNet.Interactive.Commands.KernelCommand, Microsoft.DotNet.Interactive.KernelInvocationContext)\n",
      "Void MoveNext()\n",
      "Void Start[TStateMachine](TStateMachine ByRef)\n",
      "System.Threading.Tasks.Task <BuildPipeline>b__6_0(Microsoft.DotNet.Interactive.Commands.KernelCommand, Microsoft.DotNet.Interactive.KernelInvocationContext, Microsoft.DotNet.Interactive.KernelPipelineContinuation)\n",
      "Void MoveNext()\n",
      "Void Start[TStateMachine](TStateMachine ByRef)\n",
      "Void MoveNext()\n",
      "Void Start[TStateMachine](TStateMachine ByRef)\n",
      "System.Threading.Tasks.Task <UseTelemetrySender>b__0(Microsoft.DotNet.Interactive.Commands.KernelCommand, Microsoft.DotNet.Interactive.KernelInvocationContext, Microsoft.DotNet.Interactive.KernelPipelineContinuation)\n",
      "Void MoveNext()\n",
      "Void Start[TStateMachine](TStateMachine ByRef)\n",
      "Void MoveNext()\n",
      "Void Start[TStateMachine](TStateMachine ByRef)\n",
      "System.Threading.Tasks.Task <UseNuGetExtensions>b__0(Microsoft.DotNet.Interactive.Commands.KernelCommand, Microsoft.DotNet.Interactive.KernelInvocationContext, Microsoft.DotNet.Interactive.KernelPipelineContinuation)\n",
      "Void MoveNext()\n",
      "Void Start[TStateMachine](TStateMachine ByRef)\n",
      "Void MoveNext()\n",
      "Void Start[TStateMachine](TStateMachine ByRef)\n",
      "System.Threading.Tasks.Task <UseSecretManager>b__0(Microsoft.DotNet.Interactive.Commands.KernelCommand, Microsoft.DotNet.Interactive.KernelInvocationContext, Microsoft.DotNet.Interactive.KernelPipelineContinuation)\n",
      "Void MoveNext()\n",
      "Void Start[TStateMachine](TStateMachine ByRef)\n",
      "Void MoveNext()\n",
      "Void Start[TStateMachine](TStateMachine ByRef)\n",
      "Void MoveNext()\n",
      "Void Start[TStateMachine](TStateMachine ByRef)\n",
      "System.Threading.Tasks.Task <BuildPipeline>g__Combine|2(Microsoft.DotNet.Interactive.Commands.KernelCommand, Microsoft.DotNet.Interactive.KernelInvocationContext, Microsoft.DotNet.Interactive.KernelPipelineContinuation)\n",
      "Void MoveNext()\n",
      "Void Start[TStateMachine](TStateMachine ByRef)\n",
      "Void MoveNext()\n",
      "Void Start[TStateMachine](TStateMachine ByRef)\n",
      "System.Threading.Tasks.Task`1[TResult] ExecuteAsync()\n",
      "Void Run(ScheduledOperation)\n",
      "Void RunDeferredOperationsAndThen(ScheduledOperation)\n",
      "Void RunInternal(System.Threading.ExecutionContext, System.Threading.ContextCallback, System.Object)\n",
      "Void ScheduledOperationRunLoop()\n",
      "Void RunInternal(System.Threading.ExecutionContext, System.Threading.ContextCallback, System.Object)\n",
      "Void ExecuteWithThreadLocal(System.Threading.Tasks.Task ByRef, System.Threading.Thread)\n"
     ]
    }
   ],
   "source": [
    "LessenOneService.GetLocationList()"
   ]
  },
  {
   "cell_type": "code",
   "execution_count": null,
   "metadata": {
    "language_info": {
     "name": "polyglot-notebook"
    },
    "polyglot_notebook": {
     "kernelName": "csharp"
    }
   },
   "outputs": [],
   "source": [
    "using System;\n",
    "using System.Runtime.CompilerServices;\n",
    "using System.Threading.Tasks;\n",
    "\n",
    "public static class AsyncExtensions\n",
    "{\n",
    "    public static async Task WithCallerInfoAsync(\n",
    "        this Task task,\n",
    "        [CallerMemberName] string callerName = \"\")\n",
    "    {\n",
    "        try\n",
    "        {\n",
    "            await task.ConfigureAwait(false);\n",
    "        }\n",
    "        catch (Exception ex)\n",
    "        {\n",
    "            Console.WriteLine($\"Exception in {callerName}: {ex.Message}\");\n",
    "            throw;\n",
    "        }\n",
    "\n",
    "        Console.WriteLine($\"Async call completed from {callerName}\");\n",
    "    }\n",
    "\n",
    "    public static async Task<T> WithCallerInfoAsync<T>(\n",
    "        this Task<T> task,\n",
    "        [CallerMemberName] string callerName = \"\")\n",
    "    {\n",
    "        try\n",
    "        {\n",
    "            var result = await task.ConfigureAwait(false);\n",
    "            Console.WriteLine($\"Async call completed from {callerName}\");\n",
    "            return result;\n",
    "        }\n",
    "        catch (Exception ex)\n",
    "        {\n",
    "            Console.WriteLine($\"Exception in {callerName}: {ex.Message}\");\n",
    "            throw;\n",
    "        }\n",
    "    }\n",
    "}\n"
   ]
  }
 ],
 "metadata": {
  "kernelspec": {
   "display_name": ".NET (C#)",
   "language": "C#",
   "name": ".net-csharp"
  },
  "polyglot_notebook": {
   "kernelInfo": {
    "defaultKernelName": "csharp",
    "items": [
     {
      "aliases": [],
      "languageName": "csharp",
      "name": "csharp"
     }
    ]
   }
  }
 },
 "nbformat": 4,
 "nbformat_minor": 5
}
